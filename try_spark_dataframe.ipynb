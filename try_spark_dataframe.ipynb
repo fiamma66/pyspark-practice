{
 "cells": [
  {
   "cell_type": "code",
   "execution_count": 1,
   "metadata": {},
   "outputs": [],
   "source": [
    "# practice in \n",
    "# https://www.analyticsvidhya.com/blog/2016/10/spark-dataframe-and-operations/\n",
    "\n",
    "# spark version 2.4.0\n",
    "# spark mode : standalone cluster\n",
    "# pyspark version : anaconda python 3.7 jupyter\n",
    "\n",
    "from pyspark.sql import Row\n",
    "\n",
    "\n",
    "l = [(\"Vincent\",22),(\"Bob\",26),(\"Jack\",26)]\n",
    "\n",
    "\n"
   ]
  },
  {
   "cell_type": "code",
   "execution_count": 2,
   "metadata": {},
   "outputs": [],
   "source": [
    "rdd = sc.parallelize(l)\n"
   ]
  },
  {
   "cell_type": "code",
   "execution_count": 3,
   "metadata": {},
   "outputs": [],
   "source": [
    "# from rdd to spark.sql.dataframe\n",
    "people = rdd.map(lambda x : Row(name = x[0],age = x[1]))\n",
    "schemaPeople = sqlContext.createDataFrame(people)"
   ]
  },
  {
   "cell_type": "code",
   "execution_count": 4,
   "metadata": {},
   "outputs": [
    {
     "name": "stdout",
     "output_type": "stream",
     "text": [
      "+---+-------+\n",
      "|age|   name|\n",
      "+---+-------+\n",
      "| 22|Vincent|\n",
      "| 26|    Bob|\n",
      "| 26|   Jack|\n",
      "+---+-------+\n",
      "\n"
     ]
    }
   ],
   "source": [
    "schemaPeople.show()"
   ]
  },
  {
   "cell_type": "code",
   "execution_count": 5,
   "metadata": {},
   "outputs": [
    {
     "data": {
      "text/plain": [
       "pyspark.sql.dataframe.DataFrame"
      ]
     },
     "execution_count": 5,
     "metadata": {},
     "output_type": "execute_result"
    }
   ],
   "source": [
    "type(schemaPeople)"
   ]
  },
  {
   "cell_type": "code",
   "execution_count": 6,
   "metadata": {},
   "outputs": [
    {
     "name": "stdout",
     "output_type": "stream",
     "text": [
      "+-------+----------+------+-----+----------+-------------+--------------------------+--------------+------------------+------------------+------------------+--------+\n",
      "|User_ID|Product_ID|Gender|  Age|Occupation|City_Category|Stay_In_Current_City_Years|Marital_Status|Product_Category_1|Product_Category_2|Product_Category_3|Purchase|\n",
      "+-------+----------+------+-----+----------+-------------+--------------------------+--------------+------------------+------------------+------------------+--------+\n",
      "|1000001| P00069042|     F| 0-17|        10|            A|                         2|             0|                 3|              null|              null|    8370|\n",
      "|1000001| P00248942|     F| 0-17|        10|            A|                         2|             0|                 1|                 6|                14|   15200|\n",
      "|1000001| P00087842|     F| 0-17|        10|            A|                         2|             0|                12|              null|              null|    1422|\n",
      "|1000001| P00085442|     F| 0-17|        10|            A|                         2|             0|                12|                14|              null|    1057|\n",
      "|1000002| P00285442|     M|  55+|        16|            C|                        4+|             0|                 8|              null|              null|    7969|\n",
      "|1000003| P00193542|     M|26-35|        15|            A|                         3|             0|                 1|                 2|              null|   15227|\n",
      "|1000004| P00184942|     M|46-50|         7|            B|                         2|             1|                 1|                 8|                17|   19215|\n",
      "|1000004| P00346142|     M|46-50|         7|            B|                         2|             1|                 1|                15|              null|   15854|\n",
      "|1000004|  P0097242|     M|46-50|         7|            B|                         2|             1|                 1|                16|              null|   15686|\n",
      "|1000005| P00274942|     M|26-35|        20|            A|                         1|             1|                 8|              null|              null|    7871|\n",
      "|1000005| P00251242|     M|26-35|        20|            A|                         1|             1|                 5|                11|              null|    5254|\n",
      "|1000005| P00014542|     M|26-35|        20|            A|                         1|             1|                 8|              null|              null|    3957|\n",
      "|1000005| P00031342|     M|26-35|        20|            A|                         1|             1|                 8|              null|              null|    6073|\n",
      "|1000005| P00145042|     M|26-35|        20|            A|                         1|             1|                 1|                 2|                 5|   15665|\n",
      "|1000006| P00231342|     F|51-55|         9|            A|                         1|             0|                 5|                 8|                14|    5378|\n",
      "|1000006| P00190242|     F|51-55|         9|            A|                         1|             0|                 4|                 5|              null|    2079|\n",
      "|1000006|  P0096642|     F|51-55|         9|            A|                         1|             0|                 2|                 3|                 4|   13055|\n",
      "|1000006| P00058442|     F|51-55|         9|            A|                         1|             0|                 5|                14|              null|    8851|\n",
      "|1000007| P00036842|     M|36-45|         1|            B|                         1|             1|                 1|                14|                16|   11788|\n",
      "|1000008| P00249542|     M|26-35|        12|            C|                        4+|             1|                 1|                 5|                15|   19614|\n",
      "+-------+----------+------+-----+----------+-------------+--------------------------+--------------+------------------+------------------+------------------+--------+\n",
      "only showing top 20 rows\n",
      "\n"
     ]
    }
   ],
   "source": [
    "# load csv in HDFS spark2.0 up\n",
    "train = spark.read.csv(\"hdfs://master/tmp/data_hsu/practice/train.csv\", header=True)\n",
    "test = spark.read.csv(\"hdfs://master/tmp/data_hsu/practice/test.csv\", header=True)\n",
    "train.show()"
   ]
  },
  {
   "cell_type": "code",
   "execution_count": 7,
   "metadata": {
    "scrolled": true
   },
   "outputs": [
    {
     "name": "stdout",
     "output_type": "stream",
     "text": [
      "root\n",
      " |-- User_ID: string (nullable = true)\n",
      " |-- Product_ID: string (nullable = true)\n",
      " |-- Gender: string (nullable = true)\n",
      " |-- Age: string (nullable = true)\n",
      " |-- Occupation: string (nullable = true)\n",
      " |-- City_Category: string (nullable = true)\n",
      " |-- Stay_In_Current_City_Years: string (nullable = true)\n",
      " |-- Marital_Status: string (nullable = true)\n",
      " |-- Product_Category_1: string (nullable = true)\n",
      " |-- Product_Category_2: string (nullable = true)\n",
      " |-- Product_Category_3: string (nullable = true)\n",
      " |-- Purchase: string (nullable = true)\n",
      "\n"
     ]
    }
   ],
   "source": [
    "# show Schema\n",
    "train.printSchema()"
   ]
  },
  {
   "cell_type": "code",
   "execution_count": 8,
   "metadata": {},
   "outputs": [
    {
     "data": {
      "text/plain": [
       "[Row(User_ID='1000001', Product_ID='P00069042', Gender='F', Age='0-17', Occupation='10', City_Category='A', Stay_In_Current_City_Years='2', Marital_Status='0', Product_Category_1='3', Product_Category_2=None, Product_Category_3=None, Purchase='8370'),\n",
       " Row(User_ID='1000001', Product_ID='P00248942', Gender='F', Age='0-17', Occupation='10', City_Category='A', Stay_In_Current_City_Years='2', Marital_Status='0', Product_Category_1='1', Product_Category_2='6', Product_Category_3='14', Purchase='15200'),\n",
       " Row(User_ID='1000001', Product_ID='P00087842', Gender='F', Age='0-17', Occupation='10', City_Category='A', Stay_In_Current_City_Years='2', Marital_Status='0', Product_Category_1='12', Product_Category_2=None, Product_Category_3=None, Purchase='1422'),\n",
       " Row(User_ID='1000001', Product_ID='P00085442', Gender='F', Age='0-17', Occupation='10', City_Category='A', Stay_In_Current_City_Years='2', Marital_Status='0', Product_Category_1='12', Product_Category_2='14', Product_Category_3=None, Purchase='1057'),\n",
       " Row(User_ID='1000002', Product_ID='P00285442', Gender='M', Age='55+', Occupation='16', City_Category='C', Stay_In_Current_City_Years='4+', Marital_Status='0', Product_Category_1='8', Product_Category_2=None, Product_Category_3=None, Purchase='7969')]"
      ]
     },
     "execution_count": 8,
     "metadata": {},
     "output_type": "execute_result"
    }
   ],
   "source": [
    "# show head\n",
    "train.head(5)\n"
   ]
  },
  {
   "cell_type": "code",
   "execution_count": 9,
   "metadata": {},
   "outputs": [
    {
     "data": {
      "text/plain": [
       "(550068, 233599)"
      ]
     },
     "execution_count": 9,
     "metadata": {},
     "output_type": "execute_result"
    }
   ],
   "source": [
    "# count row \n",
    "train.count() , test.count()\n"
   ]
  },
  {
   "cell_type": "code",
   "execution_count": 10,
   "metadata": {},
   "outputs": [
    {
     "data": {
      "text/plain": [
       "(12,\n",
       " ['User_ID',\n",
       "  'Product_ID',\n",
       "  'Gender',\n",
       "  'Age',\n",
       "  'Occupation',\n",
       "  'City_Category',\n",
       "  'Stay_In_Current_City_Years',\n",
       "  'Marital_Status',\n",
       "  'Product_Category_1',\n",
       "  'Product_Category_2',\n",
       "  'Product_Category_3',\n",
       "  'Purchase'])"
      ]
     },
     "execution_count": 10,
     "metadata": {},
     "output_type": "execute_result"
    }
   ],
   "source": [
    "# show colume\n",
    "# sql.dataframe.colume a list object\n",
    "len(train.columns), train.columns\n"
   ]
  },
  {
   "cell_type": "code",
   "execution_count": 11,
   "metadata": {},
   "outputs": [
    {
     "data": {
      "text/plain": [
       "(11,\n",
       " ['User_ID',\n",
       "  'Product_ID',\n",
       "  'Gender',\n",
       "  'Age',\n",
       "  'Occupation',\n",
       "  'City_Category',\n",
       "  'Stay_In_Current_City_Years',\n",
       "  'Marital_Status',\n",
       "  'Product_Category_1',\n",
       "  'Product_Category_2',\n",
       "  'Product_Category_3'])"
      ]
     },
     "execution_count": 11,
     "metadata": {},
     "output_type": "execute_result"
    }
   ],
   "source": [
    "len(test.columns), test.columns"
   ]
  },
  {
   "cell_type": "code",
   "execution_count": 12,
   "metadata": {},
   "outputs": [
    {
     "name": "stdout",
     "output_type": "stream",
     "text": [
      "+-------+------------------+----------+------+------+-----------------+-------------+--------------------------+-------------------+------------------+------------------+------------------+-----------------+\n",
      "|summary|           User_ID|Product_ID|Gender|   Age|       Occupation|City_Category|Stay_In_Current_City_Years|     Marital_Status|Product_Category_1|Product_Category_2|Product_Category_3|         Purchase|\n",
      "+-------+------------------+----------+------+------+-----------------+-------------+--------------------------+-------------------+------------------+------------------+------------------+-----------------+\n",
      "|  count|            550068|    550068|550068|550068|           550068|       550068|                    550068|             550068|            550068|            376430|            166821|           550068|\n",
      "|   mean|1003028.8424013031|      null|  null|  null|8.076706879876669|         null|         1.468494139793958|0.40965298835780306| 5.404270017525106| 9.842329251122386|12.668243206790512|9263.968712959126|\n",
      "| stddev|1727.5915855312937|      null|  null|  null|6.522660487341823|         null|        0.9890866807573171|0.49177012631733175|3.9362113692013856|5.0865896486934785| 4.125337631575277|5023.065393820575|\n",
      "|    min|           1000001| P00000142|     F|  0-17|                0|            A|                         0|                  0|                 1|                10|                10|            10000|\n",
      "|    max|           1006040|  P0099942|     M|   55+|                9|            C|                        4+|                  1|                 9|                 9|                 9|             9999|\n",
      "+-------+------------------+----------+------+------+-----------------+-------------+--------------------------+-------------------+------------------+------------------+------------------+-----------------+\n",
      "\n"
     ]
    }
   ],
   "source": [
    "# show statistics info\n",
    "train.describe().show()\n"
   ]
  },
  {
   "cell_type": "code",
   "execution_count": 13,
   "metadata": {},
   "outputs": [
    {
     "name": "stdout",
     "output_type": "stream",
     "text": [
      "+-------+----------+\n",
      "|summary|Product_ID|\n",
      "+-------+----------+\n",
      "|  count|    550068|\n",
      "|   mean|      null|\n",
      "| stddev|      null|\n",
      "|    min| P00000142|\n",
      "|    max|  P0099942|\n",
      "+-------+----------+\n",
      "\n"
     ]
    }
   ],
   "source": [
    "# show one column statistics\n",
    "train.describe(\"Product_ID\").show()\n",
    "\n",
    "# min and max are ACSII value"
   ]
  },
  {
   "cell_type": "code",
   "execution_count": 14,
   "metadata": {},
   "outputs": [
    {
     "name": "stdout",
     "output_type": "stream",
     "text": [
      "+-------+-----+\n",
      "|User_ID|  Age|\n",
      "+-------+-----+\n",
      "|1000001| 0-17|\n",
      "|1000001| 0-17|\n",
      "|1000001| 0-17|\n",
      "|1000001| 0-17|\n",
      "|1000002|  55+|\n",
      "|1000003|26-35|\n",
      "|1000004|46-50|\n",
      "|1000004|46-50|\n",
      "|1000004|46-50|\n",
      "|1000005|26-35|\n",
      "+-------+-----+\n",
      "only showing top 10 rows\n",
      "\n"
     ]
    }
   ],
   "source": [
    "# select one and more colume \n",
    "train.select(\"User_ID\", \"Age\").show(10)"
   ]
  },
  {
   "cell_type": "code",
   "execution_count": 15,
   "metadata": {},
   "outputs": [
    {
     "data": {
      "text/plain": [
       "(3631, 3491)"
      ]
     },
     "execution_count": 15,
     "metadata": {},
     "output_type": "execute_result"
    }
   ],
   "source": [
    "# use distinct in spark dataframe\n",
    "train.select(\"Product_ID\").distinct().count(), test.select(\"Product_ID\").distinct().count()\n"
   ]
  },
  {
   "cell_type": "code",
   "execution_count": 16,
   "metadata": {},
   "outputs": [
    {
     "data": {
      "text/plain": [
       "46"
      ]
     },
     "execution_count": 16,
     "metadata": {},
     "output_type": "execute_result"
    }
   ],
   "source": [
    "# try to find product not in train but do in the test file\n",
    "# use subtract\n",
    "diff_cat = test.select(\"Product_ID\").subtract(train.select(\"Product_ID\"))\n",
    "diff_cat.distinct().count()\n",
    "\n",
    "\n",
    "# 46 different categories in test but not in train"
   ]
  },
  {
   "cell_type": "code",
   "execution_count": 17,
   "metadata": {},
   "outputs": [
    {
     "name": "stdout",
     "output_type": "stream",
     "text": [
      "+----------+-----+------+\n",
      "|Age_Gender|    F|     M|\n",
      "+----------+-----+------+\n",
      "|      0-17| 5083| 10019|\n",
      "|     46-50|13199| 32502|\n",
      "|     18-25|24628| 75032|\n",
      "|     36-45|27170| 82843|\n",
      "|       55+| 5083| 16421|\n",
      "|     51-55| 9894| 28607|\n",
      "|     26-35|50752|168835|\n",
      "+----------+-----+------+\n",
      "\n"
     ]
    }
   ],
   "source": [
    "# use cross table\n",
    "train.crosstab(\"Age\", \"Gender\").show()\n"
   ]
  },
  {
   "cell_type": "code",
   "execution_count": 18,
   "metadata": {},
   "outputs": [
    {
     "name": "stdout",
     "output_type": "stream",
     "text": [
      "+-----+------+\n",
      "|  Age|Gender|\n",
      "+-----+------+\n",
      "|51-55|     F|\n",
      "|18-25|     M|\n",
      "| 0-17|     F|\n",
      "|46-50|     M|\n",
      "|18-25|     F|\n",
      "|  55+|     M|\n",
      "|  55+|     F|\n",
      "|36-45|     M|\n",
      "|26-35|     F|\n",
      "| 0-17|     M|\n",
      "|36-45|     F|\n",
      "|51-55|     M|\n",
      "|26-35|     M|\n",
      "|46-50|     F|\n",
      "+-----+------+\n",
      "\n"
     ]
    }
   ],
   "source": [
    "# drop Duplicates\n",
    "train.select(\"Age\", \"Gender\").dropDuplicates().show()\n"
   ]
  },
  {
   "cell_type": "code",
   "execution_count": 19,
   "metadata": {},
   "outputs": [
    {
     "data": {
      "text/plain": [
       "166821"
      ]
     },
     "execution_count": 19,
     "metadata": {},
     "output_type": "execute_result"
    }
   ],
   "source": [
    "# process with NA\n",
    "# 1. drop null\n",
    "# param (how) three process 'any', 'all'\n",
    "# param (thresh) use a threshold\n",
    "# param (subset) list of column names to consider\n",
    "\n",
    "# dropna return new dataframe \n",
    "# 不影響原有的資料\n",
    "\n",
    "train.dropna(how='all').count()\n",
    "# output 550068 -> not row have all na value\n",
    "\n",
    "train.dropna(how='any').count()\n",
    "# output 166821\n"
   ]
  },
  {
   "cell_type": "code",
   "execution_count": 20,
   "metadata": {},
   "outputs": [
    {
     "name": "stdout",
     "output_type": "stream",
     "text": [
      "+-------+----------+------+----+----------+-------------+--------------------------+--------------+------------------+------------------+------------------+--------+\n",
      "|User_ID|Product_ID|Gender| Age|Occupation|City_Category|Stay_In_Current_City_Years|Marital_Status|Product_Category_1|Product_Category_2|Product_Category_3|Purchase|\n",
      "+-------+----------+------+----+----------+-------------+--------------------------+--------------+------------------+------------------+------------------+--------+\n",
      "|1000001| P00069042|     F|0-17|        10|            A|                         2|             0|                 3|                -1|                -1|    8370|\n",
      "|1000001| P00248942|     F|0-17|        10|            A|                         2|             0|                 1|                 6|                14|   15200|\n",
      "|1000001| P00087842|     F|0-17|        10|            A|                         2|             0|                12|                -1|                -1|    1422|\n",
      "+-------+----------+------+----+----------+-------------+--------------------------+--------------+------------------+------------------+------------------+--------+\n",
      "only showing top 3 rows\n",
      "\n"
     ]
    }
   ],
   "source": [
    "# process with NA\n",
    "# 2. try to fill it\n",
    "# fillna two param (value,subset)\n",
    "# value take a dict param \n",
    "# 指定哪些欄位填入哪些值\n",
    "\n",
    "# only fill Product_Category_2 with -1\n",
    "train.fillna(\"-1\").show(3)\n",
    "\n",
    "# in spark 2.3 up \n",
    "# 填入 na 會自動指定 資料格式\n",
    "# 填入 int float 就只會 fill 欄位為 int float 的 NA\n",
    "\n",
    "\n"
   ]
  },
  {
   "cell_type": "code",
   "execution_count": 40,
   "metadata": {},
   "outputs": [
    {
     "data": {
      "text/plain": [
       "110523"
      ]
     },
     "execution_count": 40,
     "metadata": {},
     "output_type": "execute_result"
    }
   ],
   "source": [
    "# filter rows\n",
    "# like SQL where\n",
    "\n",
    "train.filter(train.Purchase > 15000).count()\n"
   ]
  },
  {
   "cell_type": "code",
   "execution_count": 22,
   "metadata": {},
   "outputs": [
    {
     "name": "stdout",
     "output_type": "stream",
     "text": [
      "+-----+-----------------+\n",
      "|  Age|    avg(Purchase)|\n",
      "+-----+-----------------+\n",
      "|18-25|9169.663606261289|\n",
      "|26-35|9252.690632869888|\n",
      "| 0-17|8933.464640444974|\n",
      "|46-50|9208.625697468327|\n",
      "|51-55|9534.808030960236|\n",
      "|36-45|9331.350694917874|\n",
      "|  55+|9336.280459449405|\n",
      "+-----+-----------------+\n",
      "\n"
     ]
    }
   ],
   "source": [
    "# SQL group by\n",
    "# use groupby\n",
    "\n",
    "# agg -> average\n",
    "train.groupBy(\"Age\").agg({'Purchase': 'mean'}).show()"
   ]
  },
  {
   "cell_type": "code",
   "execution_count": 23,
   "metadata": {},
   "outputs": [
    {
     "name": "stdout",
     "output_type": "stream",
     "text": [
      "+-----+------+\n",
      "|  Age| count|\n",
      "+-----+------+\n",
      "|18-25| 99660|\n",
      "|26-35|219587|\n",
      "| 0-17| 15102|\n",
      "|46-50| 45701|\n",
      "|51-55| 38501|\n",
      "|36-45|110013|\n",
      "|  55+| 21504|\n",
      "+-----+------+\n",
      "\n"
     ]
    }
   ],
   "source": [
    "# groupby and sum\n",
    "\n",
    "train.groupBy(\"Age\").count().show()"
   ]
  },
  {
   "cell_type": "code",
   "execution_count": 24,
   "metadata": {},
   "outputs": [
    {
     "data": {
      "text/plain": [
       "(659494, 164751)"
      ]
     },
     "execution_count": 24,
     "metadata": {},
     "output_type": "execute_result"
    }
   ],
   "source": [
    "# sample our data\n",
    "# 3 param\n",
    "# withReplacement     取後放回或不放回\n",
    "# fraction     指定要 sample 多少樣本\n",
    "# seed     just....seed \n",
    "\n",
    "\n",
    "# Seed 相同 取出的 樣本 相同\n",
    "t1 = train.sample(True, 1.2, 42) # 超過 100% 的 sample 必指定 replacement = T\n",
    "t2 = train.sample(False, 0.3, 42)\n",
    "t1.count(), t2.count()"
   ]
  },
  {
   "cell_type": "code",
   "execution_count": 25,
   "metadata": {},
   "outputs": [
    {
     "data": {
      "text/plain": [
       "[(Row(User_ID='1000001'), 1),\n",
       " (Row(User_ID='1000001'), 1),\n",
       " (Row(User_ID='1000001'), 1),\n",
       " (Row(User_ID='1000001'), 1),\n",
       " (Row(User_ID='1000002'), 1)]"
      ]
     },
     "execution_count": 25,
     "metadata": {},
     "output_type": "execute_result"
    }
   ],
   "source": [
    "# use apply to one column \n",
    "# like pandas apply\n",
    "# result are RDD in spark\n",
    "\n",
    "# same in spark \n",
    "# map do not action\n",
    "\n",
    "# in spark 2.0 up must call .rdd first to use mapReduce\n",
    "train.select(\"User_ID\").rdd.map(lambda x : (x,1)).take(5)\n"
   ]
  },
  {
   "cell_type": "code",
   "execution_count": 26,
   "metadata": {
    "scrolled": true
   },
   "outputs": [
    {
     "name": "stdout",
     "output_type": "stream",
     "text": [
      "+-------+----------+------+-----+----------+-------------+--------------------------+--------------+------------------+------------------+------------------+--------+\n",
      "|User_ID|Product_ID|Gender|  Age|Occupation|City_Category|Stay_In_Current_City_Years|Marital_Status|Product_Category_1|Product_Category_2|Product_Category_3|Purchase|\n",
      "+-------+----------+------+-----+----------+-------------+--------------------------+--------------+------------------+------------------+------------------+--------+\n",
      "|1002750| P00111842|     F|26-35|        15|            B|                         1|             0|                 8|              null|              null|    9999|\n",
      "|1005341| P00277642|     F|26-35|         3|            C|                         1|             1|                 2|                 3|                10|    9999|\n",
      "|1000238| P00312342|     F|51-55|         7|            B|                         0|             0|                 8|              null|              null|    9999|\n",
      "|1004608| P00085242|     F|26-35|         0|            B|                         3|             0|                 8|                14|                17|    9999|\n",
      "|1004626| P00052542|     M|26-35|        14|            B|                        4+|             0|                 8|              null|              null|    9999|\n",
      "|1003842| P00110542|     F|36-45|        16|            B|                        4+|             0|                 8|              null|              null|    9999|\n",
      "|1000058| P00189642|     M|26-35|         2|            B|                         3|             0|                 8|                13|              null|    9999|\n",
      "|1003693| P00058042|     M|26-35|        15|            B|                         1|             1|                 8|                16|              null|    9999|\n",
      "|1001579| P00113942|     M|26-35|         0|            A|                         0|             0|                 8|              null|              null|    9999|\n",
      "|1003507| P00084242|     M|26-35|         0|            A|                         3|             0|                 8|                14|              null|    9999|\n",
      "+-------+----------+------+-----+----------+-------------+--------------------------+--------------+------------------+------------------+------------------+--------+\n",
      "only showing top 10 rows\n",
      "\n",
      "+-------+----------+------+-----+----------+-------------+--------------------------+--------------+------------------+------------------+------------------+--------+\n",
      "|User_ID|Product_ID|Gender|  Age|Occupation|City_Category|Stay_In_Current_City_Years|Marital_Status|Product_Category_1|Product_Category_2|Product_Category_3|Purchase|\n",
      "+-------+----------+------+-----+----------+-------------+--------------------------+--------------+------------------+------------------+------------------+--------+\n",
      "|1001071| P00120542|     M|51-55|        16|            C|                         0|             0|                 8|                14|              null|    9999|\n",
      "|1005623| P00113642|     M|26-35|        11|            B|                         2|             1|                 8|              null|              null|    9999|\n",
      "|1004344| P00111842|     M|26-35|         1|            A|                        4+|             0|                 8|              null|              null|    9999|\n",
      "|1003462| P00115542|     F|26-35|         4|            B|                         3|             0|                 8|              null|              null|    9999|\n",
      "|1002107| P00350442|     M|26-35|         1|            A|                         3|             1|                 2|                 3|                15|    9999|\n",
      "+-------+----------+------+-----+----------+-------------+--------------------------+--------------+------------------+------------------+------------------+--------+\n",
      "only showing top 5 rows\n",
      "\n",
      "+-------+----------+------+-----+----------+-------------+--------------------------+--------------+------------------+------------------+------------------+--------+\n",
      "|User_ID|Product_ID|Gender|  Age|Occupation|City_Category|Stay_In_Current_City_Years|Marital_Status|Product_Category_1|Product_Category_2|Product_Category_3|Purchase|\n",
      "+-------+----------+------+-----+----------+-------------+--------------------------+--------------+------------------+------------------+------------------+--------+\n",
      "|1000204|  P0094542|     M|26-35|         7|            B|                         1|             1|                 2|                 4|                 9|   10000|\n",
      "|1000272| P00001642|     M|18-25|         0|            A|                         1|             0|                 8|                16|              null|   10000|\n",
      "|1000319| P00117242|     F|51-55|         6|            B|                         3|             1|                 8|                17|              null|   10000|\n",
      "+-------+----------+------+-----+----------+-------------+--------------------------+--------------+------------------+------------------+------------------+--------+\n",
      "only showing top 3 rows\n",
      "\n"
     ]
    }
   ],
   "source": [
    "# orderBy to sort dataframe\n",
    "# two param \n",
    "# list of columns\n",
    "# ascending = T or F\n",
    "\n",
    "train.orderBy(\"Purchase\", ascending = False).show(10)\n",
    "\n",
    "# also can use like\n",
    "\n",
    "train.orderBy(train.Purchase.desc()).show(5)\n",
    "\n",
    "train.orderBy([\"Purchase\", \"User_ID\"], ascending=True).show(3)"
   ]
  },
  {
   "cell_type": "code",
   "execution_count": 27,
   "metadata": {},
   "outputs": [
    {
     "name": "stdout",
     "output_type": "stream",
     "text": [
      "+--------+------------+\n",
      "|Purchase|Purchase_new|\n",
      "+--------+------------+\n",
      "|    8370|      4185.0|\n",
      "|   15200|      7600.0|\n",
      "|    1422|       711.0|\n",
      "|    1057|       528.5|\n",
      "+--------+------------+\n",
      "only showing top 4 rows\n",
      "\n"
     ]
    }
   ],
   "source": [
    "# add new columns \n",
    "train.withColumn('Purchase_new', train.Purchase / 2.0).select(\"Purchase\", \"Purchase_new\").show(4)\n",
    "\n"
   ]
  },
  {
   "cell_type": "code",
   "execution_count": 28,
   "metadata": {},
   "outputs": [
    {
     "data": {
      "text/plain": [
       "['User_ID',\n",
       " 'Product_ID',\n",
       " 'Gender',\n",
       " 'Age',\n",
       " 'Occupation',\n",
       " 'Stay_In_Current_City_Years',\n",
       " 'Marital_Status',\n",
       " 'Product_Category_1',\n",
       " 'Product_Category_2',\n",
       " 'Product_Category_3']"
      ]
     },
     "execution_count": 28,
     "metadata": {},
     "output_type": "execute_result"
    }
   ],
   "source": [
    "# drop a columns\n",
    "\n",
    "\n",
    "test.drop('City_Category').columns\n"
   ]
  },
  {
   "cell_type": "code",
   "execution_count": 29,
   "metadata": {},
   "outputs": [
    {
     "data": {
      "text/plain": [
       "46"
      ]
     },
     "execution_count": 29,
     "metadata": {},
     "output_type": "execute_result"
    }
   ],
   "source": [
    "# use UDF\n",
    "# User define function\n",
    "diff = test.select(\"Product_ID\").subtract(train.select(\"Product_ID\"))\n",
    "\n",
    "diff.distinct().count()\n"
   ]
  },
  {
   "cell_type": "code",
   "execution_count": 30,
   "metadata": {},
   "outputs": [
    {
     "data": {
      "text/plain": [
       "46"
      ]
     },
     "execution_count": 30,
     "metadata": {},
     "output_type": "execute_result"
    }
   ],
   "source": [
    "# remove diff cate \n",
    "# return rdd of diff product id\n",
    "\n",
    "not_found_cat = diff.distinct().rdd.map(lambda x : x[0]).collect()\n",
    "len(not_found_cat)"
   ]
  },
  {
   "cell_type": "code",
   "execution_count": 31,
   "metadata": {},
   "outputs": [],
   "source": [
    "# register UDF\n",
    "# two param\n",
    "# function\n",
    "# return type \n",
    "from pyspark.sql.types import StringType\n",
    "from pyspark.sql.functions import udf\n",
    "\n",
    "udf_lookup = udf(lambda x: '-1' if x in not_found_cat else x, returnType=StringType())\n",
    "\n",
    "# test.Product_ID same with test[\"Product_ID\"]\n",
    "\n",
    "k = test.withColumn(\"NEW_Product_ID\", udf_lookup(test[\"Product_ID\"])).select(\"NEW_Product_ID\")\n",
    "\n"
   ]
  },
  {
   "cell_type": "code",
   "execution_count": 32,
   "metadata": {},
   "outputs": [
    {
     "data": {
      "text/plain": [
       "1"
      ]
     },
     "execution_count": 32,
     "metadata": {},
     "output_type": "execute_result"
    }
   ],
   "source": [
    "# lookup again in test and train if there is different cate\n",
    "diff = k.select(\"NEW_Product_ID\").subtract(train.select(\"Product_ID\"))\n",
    "diff.distinct().count()\n",
    "\n",
    "\n",
    "# output : 1\n",
    "# mean only one different with -1 and other"
   ]
  },
  {
   "cell_type": "code",
   "execution_count": 33,
   "metadata": {},
   "outputs": [
    {
     "data": {
      "text/plain": [
       "[Row(NEW_Product_ID='-1')]"
      ]
     },
     "execution_count": 33,
     "metadata": {},
     "output_type": "execute_result"
    }
   ],
   "source": [
    "diff.collect()\n",
    "\n"
   ]
  },
  {
   "cell_type": "code",
   "execution_count": 35,
   "metadata": {},
   "outputs": [],
   "source": [
    "# covert dataframe to table \n",
    "# table also use in HIVE\n",
    "\n",
    "train.registerTempTable('train_table')"
   ]
  },
  {
   "cell_type": "code",
   "execution_count": 45,
   "metadata": {},
   "outputs": [
    {
     "name": "stdout",
     "output_type": "stream",
     "text": [
      "+--------+\n",
      "|Purchase|\n",
      "+--------+\n",
      "|    8370|\n",
      "|   15200|\n",
      "|    1422|\n",
      "|    1057|\n",
      "|    7969|\n",
      "|   15227|\n",
      "|   19215|\n",
      "|   15854|\n",
      "|   15686|\n",
      "|    7871|\n",
      "+--------+\n",
      "only showing top 10 rows\n",
      "\n"
     ]
    }
   ],
   "source": []
  },
  {
   "cell_type": "code",
   "execution_count": 41,
   "metadata": {},
   "outputs": [
    {
     "name": "stdout",
     "output_type": "stream",
     "text": [
      "+--------+\n",
      "|Purchase|\n",
      "+--------+\n",
      "|    8370|\n",
      "|   15200|\n",
      "|    1422|\n",
      "|    1057|\n",
      "|    7969|\n",
      "+--------+\n",
      "only showing top 5 rows\n",
      "\n"
     ]
    }
   ],
   "source": [
    "\n",
    "sqlContext.sql('select Purchase from train_table').show(5)"
   ]
  },
  {
   "cell_type": "code",
   "execution_count": 57,
   "metadata": {},
   "outputs": [
    {
     "name": "stdout",
     "output_type": "stream",
     "text": [
      "+-----+-----------------------------+\n",
      "|  Age|avg(CAST(Purchase AS DOUBLE))|\n",
      "+-----+-----------------------------+\n",
      "|18-25|            9169.663606261289|\n",
      "|26-35|            9252.690632869888|\n",
      "| 0-17|            8933.464640444974|\n",
      "|46-50|            9208.625697468327|\n",
      "|51-55|            9534.808030960236|\n",
      "|36-45|            9331.350694917874|\n",
      "|  55+|            9336.280459449405|\n",
      "+-----+-----------------------------+\n",
      "\n"
     ]
    }
   ],
   "source": [
    "# more SQL\n",
    "from pyspark.sql.functions import max\n",
    "\n",
    "# select max purchase and groupby age\n",
    "sqlContext.sql('select Age, avg(Purchase) from train_table group by Age').show()\n",
    "\n"
   ]
  },
  {
   "cell_type": "code",
   "execution_count": null,
   "metadata": {},
   "outputs": [],
   "source": []
  }
 ],
 "metadata": {
  "kernelspec": {
   "display_name": "Python 3",
   "language": "python",
   "name": "python3"
  },
  "language_info": {
   "codemirror_mode": {
    "name": "ipython",
    "version": 3
   },
   "file_extension": ".py",
   "mimetype": "text/x-python",
   "name": "python",
   "nbconvert_exporter": "python",
   "pygments_lexer": "ipython3",
   "version": "3.7.1"
  }
 },
 "nbformat": 4,
 "nbformat_minor": 2
}
